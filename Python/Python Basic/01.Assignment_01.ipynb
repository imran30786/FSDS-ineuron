{
 "cells": [
  {
   "cell_type": "markdown",
   "id": "abdbe3ea",
   "metadata": {},
   "source": [
    "# Assignment 1 Solutions"
   ]
  },
  {
   "cell_type": "markdown",
   "id": "77b41b6d",
   "metadata": {},
   "source": [
    "# 1. In the below elements which of them are values or an expression? eg:- values can be integer or string and expressions will be mathematical operators."
   ]
  },
  {
   "cell_type": "code",
   "execution_count": null,
   "id": "d608e99f",
   "metadata": {},
   "outputs": [],
   "source": [
    "*,'hello', -87.8,-,/,+,6"
   ]
  },
  {
   "cell_type": "code",
   "execution_count": null,
   "id": "50682423",
   "metadata": {},
   "outputs": [],
   "source": [
    "Answer:\n",
    "Operator : *,-,/,+\n",
    "Expression : 'hello', 87.8, 6"
   ]
  },
  {
   "cell_type": "markdown",
   "id": "e7f72342",
   "metadata": {},
   "source": [
    "# 2. What is the difference between string and variable?"
   ]
  },
  {
   "cell_type": "code",
   "execution_count": null,
   "id": "74cf8556",
   "metadata": {},
   "outputs": [],
   "source": [
    "A Variable is used to store information.\n",
    "A String is a type of information that we store in a Variable. \n",
    "A String is a group of characters or a single character usually enclosed in Double quotes \" \" or single quotes ' '"
   ]
  },
  {
   "cell_type": "markdown",
   "id": "a60d2a99",
   "metadata": {},
   "source": [
    "# 3. Describe three different Data Types ?"
   ]
  },
  {
   "cell_type": "code",
   "execution_count": null,
   "id": "1326c21f",
   "metadata": {},
   "outputs": [],
   "source": [
    "int - int data type is used to represent whole numbers (integral values)\n",
    "Example: a = 20\n",
    "float - float data type is used to represent floating point values (decimal values)\n",
    "Example: b = 1.5\n",
    "complex - Complex number is represented by complex class. It is specified as (real part) + (imaginary part)j.\n",
    "Example: c = 5 + 7j"
   ]
  },
  {
   "cell_type": "markdown",
   "id": "c07de500",
   "metadata": {},
   "source": [
    "# 4. What is an expression made up of? What do all expressions do?"
   ]
  },
  {
   "cell_type": "code",
   "execution_count": null,
   "id": "4f71cf76",
   "metadata": {},
   "outputs": [],
   "source": [
    "An expression is made up of values, variables, operators, and calls to functions.\n",
    "If we ask Python to print an expression, the interpreter evaluates the expression and displays the result."
   ]
  },
  {
   "cell_type": "code",
   "execution_count": 6,
   "id": "99ff572d",
   "metadata": {},
   "outputs": [
    {
     "data": {
      "text/plain": [
       "20"
      ]
     },
     "execution_count": 6,
     "metadata": {},
     "output_type": "execute_result"
    }
   ],
   "source": [
    "2*5+50-40 \n",
    "#Its an Expression, The Python Interpreter Evaluates it to 20"
   ]
  },
  {
   "cell_type": "markdown",
   "id": "6824864c",
   "metadata": {},
   "source": [
    "# 5.This assignment statements, like spam = 10. What is the difference between an expression and a statement?"
   ]
  },
  {
   "cell_type": "code",
   "execution_count": null,
   "id": "ae243722",
   "metadata": {},
   "outputs": [],
   "source": [
    "An expression is made up of values, variables, and operators.\n",
    "If we ask Python to print an expression, the interpreter evaluates the expression and displays the result.\n",
    "\n",
    "eg: 2*5+50-40  is an example of a statement\n",
    "\n",
    "A statement is a unit of code that has an effect, like creating a variable or displaying a value.\n",
    "When we type a statement, the interpreter executes it, which means that it does whatever the statement says. \n",
    "In general, statements don’t have values.\n",
    "\n",
    "eg: variable declaration and assignment are statements because they do not return a value"
   ]
  },
  {
   "cell_type": "markdown",
   "id": "586b8b13",
   "metadata": {},
   "source": [
    "# 6.After running the following code, what does the variable bacon contain?"
   ]
  },
  {
   "cell_type": "code",
   "execution_count": null,
   "id": "bba26072",
   "metadata": {},
   "outputs": [],
   "source": [
    "bacon = 22\n",
    "bacon + 1"
   ]
  },
  {
   "cell_type": "code",
   "execution_count": null,
   "id": "237c7faa",
   "metadata": {},
   "outputs": [],
   "source": [
    "The variable bacon is set to 22 .\n",
    "The expression bacon + 1 does not reassign the value in bacon \n",
    "(that would the case if the expression is like bacon = bacon + 1 instead of bacon + 1)"
   ]
  },
  {
   "cell_type": "code",
   "execution_count": 7,
   "id": "9ed35e2c",
   "metadata": {},
   "outputs": [
    {
     "name": "stdout",
     "output_type": "stream",
     "text": [
      "22\n"
     ]
    }
   ],
   "source": [
    "# Example 1\n",
    "bacon=22\n",
    "bacon+1\n",
    "print(bacon)"
   ]
  },
  {
   "cell_type": "code",
   "execution_count": 8,
   "id": "5c3e3b5d",
   "metadata": {},
   "outputs": [
    {
     "name": "stdout",
     "output_type": "stream",
     "text": [
      "23\n"
     ]
    }
   ],
   "source": [
    "#Example 2\n",
    "bacon=22\n",
    "bacon=bacon+1 \n",
    "print(bacon)\n"
   ]
  },
  {
   "cell_type": "markdown",
   "id": "337bb4f8",
   "metadata": {},
   "source": [
    "# 7.What should the values of the following two terms be?"
   ]
  },
  {
   "cell_type": "code",
   "execution_count": null,
   "id": "e729159b",
   "metadata": {},
   "outputs": [],
   "source": [
    "'spam'+'spamspam'\n",
    "'spam'*3"
   ]
  },
  {
   "cell_type": "raw",
   "id": "4a54eddf",
   "metadata": {},
   "source": [
    "'spamspamspam' is String Concatentation and 'spam'*3 is String Multiplication"
   ]
  },
  {
   "cell_type": "code",
   "execution_count": 9,
   "id": "06fb7679",
   "metadata": {},
   "outputs": [
    {
     "name": "stdout",
     "output_type": "stream",
     "text": [
      "spamspamspam\n",
      "spamspamspam\n"
     ]
    }
   ],
   "source": [
    "print('spam'+'spamspam') # string concatenation\n",
    "print('spam'*3) # string multiplication"
   ]
  },
  {
   "cell_type": "markdown",
   "id": "b31a5d07",
   "metadata": {},
   "source": [
    "# 8. Why is eggs a valid variable name while 100 is invalid?"
   ]
  },
  {
   "cell_type": "code",
   "execution_count": null,
   "id": "ab9b8a58",
   "metadata": {},
   "outputs": [],
   "source": [
    "Variable names cannot begin with a number. The python rules for naming a variable are :-\n",
    "\n",
    "1.Variable name must start with a letter or the underscore character.\n",
    "2.Variable name cannot start with a number.\n",
    "3.Variable name can only contain alpha-numeric characters and underscores (A-z, 0-9, & _ ).\n",
    "4.Variable names are case-sensitive (name, INEURON and ineuron are three different variables).\n",
    "5.The reserved words(keywords) cannot be used naming the variable."
   ]
  },
  {
   "cell_type": "code",
   "execution_count": 10,
   "id": "1b355502",
   "metadata": {},
   "outputs": [
    {
     "ename": "SyntaxError",
     "evalue": "cannot assign to literal (<ipython-input-10-c4671446edf8>, line 2)",
     "output_type": "error",
     "traceback": [
      "\u001b[1;36m  File \u001b[1;32m\"<ipython-input-10-c4671446edf8>\"\u001b[1;36m, line \u001b[1;32m2\u001b[0m\n\u001b[1;33m    100='Hi' # Invalid Variable Initilization\u001b[0m\n\u001b[1;37m    ^\u001b[0m\n\u001b[1;31mSyntaxError\u001b[0m\u001b[1;31m:\u001b[0m cannot assign to literal\n"
     ]
    }
   ],
   "source": [
    "egg='Imran' # Valid variable Initilization\n",
    "100='Hi' # Invalid Variable Initilization\n",
    "print(egg) #prints the value of egg ie Ineuron\n",
    "print(100) # Raises a Syntax Error as 100 is not a valid variable name"
   ]
  },
  {
   "cell_type": "markdown",
   "id": "2b1f1a11",
   "metadata": {},
   "source": [
    "# 9.What three functions can be used to get the integer,floating-point number,or string version of a value?"
   ]
  },
  {
   "cell_type": "code",
   "execution_count": null,
   "id": "24bb944e",
   "metadata": {},
   "outputs": [],
   "source": [
    "int(),float(),and str() functionswill evaluate to the integer,floating-point number,\n",
    "string version of the value passed to them."
   ]
  },
  {
   "cell_type": "code",
   "execution_count": null,
   "id": "80a5da86",
   "metadata": {},
   "outputs": [],
   "source": [
    "# Examples:\n",
    "print('int(10.0) : ',int(10.0)) # int() function converts given input to int\n",
    "print('float(10) : ',float(10)) # float() function converts given input to float\n",
    "print('str(10) : ',str(10)) # str() function converts given input to string"
   ]
  },
  {
   "cell_type": "markdown",
   "id": "d16eac4e",
   "metadata": {},
   "source": [
    "# 10.Why does this expression cause an error? how can you fix it?"
   ]
  },
  {
   "cell_type": "code",
   "execution_count": null,
   "id": "cb7dc5bb",
   "metadata": {},
   "outputs": [],
   "source": [
    "'I have eaten ' + 99 + 'burritos.'"
   ]
  },
  {
   "cell_type": "code",
   "execution_count": 11,
   "id": "19c428d2",
   "metadata": {},
   "outputs": [
    {
     "ename": "TypeError",
     "evalue": "can only concatenate str (not \"int\") to str",
     "output_type": "error",
     "traceback": [
      "\u001b[1;31m---------------------------------------------------------------------------\u001b[0m",
      "\u001b[1;31mTypeError\u001b[0m                                 Traceback (most recent call last)",
      "\u001b[1;32m<ipython-input-11-c22eca2d3f0a>\u001b[0m in \u001b[0;36m<module>\u001b[1;34m\u001b[0m\n\u001b[1;32m----> 1\u001b[1;33m \u001b[0mprint\u001b[0m\u001b[1;33m(\u001b[0m\u001b[1;34m'I have eaten '\u001b[0m \u001b[1;33m+\u001b[0m \u001b[1;36m99\u001b[0m \u001b[1;33m+\u001b[0m \u001b[1;34m'burritos.'\u001b[0m\u001b[1;33m)\u001b[0m\u001b[1;33m\u001b[0m\u001b[1;33m\u001b[0m\u001b[0m\n\u001b[0m",
      "\u001b[1;31mTypeError\u001b[0m: can only concatenate str (not \"int\") to str"
     ]
    }
   ],
   "source": [
    "print('I have eaten ' + 99 + 'burritos.')"
   ]
  },
  {
   "cell_type": "code",
   "execution_count": null,
   "id": "476b10e2",
   "metadata": {},
   "outputs": [],
   "source": [
    "here the error is 99. \n",
    "99 is not a string. 99 must be typecasted to a string to fix this error. \n",
    "Input: 'I have eaten ' + str(99) + 'burritos.'\n"
   ]
  },
  {
   "cell_type": "code",
   "execution_count": 12,
   "id": "a7a9e078",
   "metadata": {},
   "outputs": [
    {
     "name": "stdout",
     "output_type": "stream",
     "text": [
      "I have eaten 99 burritos.\n"
     ]
    }
   ],
   "source": [
    "print('I have eaten ' + str(99) + ' burritos.')"
   ]
  },
  {
   "cell_type": "code",
   "execution_count": null,
   "id": "93d2a0c1",
   "metadata": {},
   "outputs": [],
   "source": []
  }
 ],
 "metadata": {
  "kernelspec": {
   "display_name": "Python 3",
   "language": "python",
   "name": "python3"
  },
  "language_info": {
   "codemirror_mode": {
    "name": "ipython",
    "version": 3
   },
   "file_extension": ".py",
   "mimetype": "text/x-python",
   "name": "python",
   "nbconvert_exporter": "python",
   "pygments_lexer": "ipython3",
   "version": "3.8.8"
  }
 },
 "nbformat": 4,
 "nbformat_minor": 5
}
